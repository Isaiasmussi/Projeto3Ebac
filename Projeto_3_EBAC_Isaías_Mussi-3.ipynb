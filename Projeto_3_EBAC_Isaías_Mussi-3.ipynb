{
  "nbformat": 4,
  "nbformat_minor": 0,
  "metadata": {
    "colab": {
      "provenance": []
    },
    "kernelspec": {
      "name": "python3",
      "display_name": "Python 3"
    },
    "language_info": {
      "name": "python"
    }
  },
  "cells": [
    {
      "cell_type": "code",
      "execution_count": 6,
      "metadata": {
        "colab": {
          "base_uri": "https://localhost:8080/"
        },
        "id": "-oHmVhebr9mH",
        "outputId": "484b57fd-cfca-4d47-9341-bb1c3757c888"
      },
      "outputs": [
        {
          "output_type": "stream",
          "name": "stdout",
          "text": [
            "Gráfico 1 foi salvo como '1_boxplot_precos.html'\n",
            "Gráfico 2 foi salvo como '2_media_descontos.html'\n",
            "Gráfico 3 foi salvo como '3_dashboard_faturamento.html'\n"
          ]
        }
      ],
      "source": [
        "import pandas as pd\n",
        "import plotly.express as px\n",
        "import plotly.graph_objects as go\n",
        "\n",
        "\n",
        "\n",
        "try:\n",
        "    df = pd.read_csv('MODULO7_PROJETOFINAL_BASE_SUPERMERCADO - MODULO7_PROJETOFINAL_BASE_SUPERMERCADO (1).csv.csv', encoding='utf-8')\n",
        "except UnicodeDecodeError:\n",
        "    df = pd.read_csv('MODULO7_PROJETOFINAL_BASE_SUPERMERCADO - MODULO7_PROJETOFINAL_BASE_SUPERMERCADO (1).csv.csv', encoding='latin1')\n",
        "\n",
        "df['Preco_Normal'] = pd.to_numeric(df['Preco_Normal'], errors='coerce')\n",
        "df.dropna(subset=['Preco_Normal'], inplace=True)\n",
        "fig_boxplot = px.box(\n",
        "    df,\n",
        "    x='Categoria',\n",
        "    y='Preco_Normal',\n",
        "    title='<b>Análise 1: Distribuição de Preços por Categoria</b>',\n",
        "    color='Categoria',\n",
        "    points='all'\n",
        ")\n",
        "fig_boxplot.update_layout(template=\"plotly_white\", title_x=0.5)\n",
        "fig_boxplot.write_html(\"1_boxplot_precos.html\")\n",
        "print(\"Gráfico 1 foi salvo como '1_boxplot_precos.html'\")\n",
        "\n",
        "\n",
        "df['Desconto_Num'] = df['Desconto'].astype(str).str.replace('%', '').str.replace(',', '.')\n",
        "df['Desconto_Num'] = pd.to_numeric(df['Desconto_Num'], errors='coerce')\n",
        "df.dropna(subset=['Desconto_Num'], inplace=True)\n",
        "media_desconto_categoria = df.groupby('Categoria')['Desconto_Num'].mean().reset_index().sort_values(by='Desconto_Num', ascending=False)\n",
        "fig_desconto = px.bar(\n",
        "    media_desconto_categoria,\n",
        "    x='Categoria',\n",
        "    y='Desconto_Num',\n",
        "    title='<b>Análise 2: Média de Desconto (%) por Categoria</b>',\n",
        "    color='Categoria',\n",
        "    text_auto='.2f'\n",
        ")\n",
        "fig_desconto.update_layout(template=\"plotly_white\", title_x=0.5)\n",
        "fig_desconto.write_html(\"2_media_descontos.html\")\n",
        "print(\"Gráfico 2 foi salvo como '2_media_descontos.html'\")\n",
        "\n",
        "\n",
        "COLUNA_CATEGORIA = 'Categoria'\n",
        "COLUNA_MARCA = 'Marca'\n",
        "COLUNA_VALOR = 'Preco_Normal'\n",
        "fig_dashboard = go.Figure()\n",
        "dados_por_categoria = df.groupby(COLUNA_CATEGORIA)[COLUNA_VALOR].sum().reset_index()\n",
        "fig_dashboard.add_trace(go.Bar(\n",
        "    x=dados_por_categoria[COLUNA_CATEGORIA],\n",
        "    y=dados_por_categoria[COLUNA_VALOR],\n",
        "    name='Visão Geral por Categoria'\n",
        "))\n",
        "botoes_menu = []\n",
        "categorias_unicas = df[COLUNA_CATEGORIA].unique()\n",
        "for categoria in categorias_unicas:\n",
        "    df_filtrado = df[df[COLUNA_CATEGORIA] == categoria]\n",
        "    dados_por_marca = df_filtrado.groupby(COLUNA_MARCA)[COLUNA_VALOR].sum().reset_index()\n",
        "    fig_dashboard.add_trace(go.Bar(\n",
        "        x=dados_por_marca[COLUNA_MARCA],\n",
        "        y=dados_por_marca[COLUNA_VALOR],\n",
        "        name=f'Marcas em {categoria}',\n",
        "        visible=False\n",
        "    ))\n",
        "visibilidade_inicial = [True] + [False] * len(categorias_unicas)\n",
        "botoes_menu.append(dict(\n",
        "    label='Visão Geral - Categorias',\n",
        "    method='update',\n",
        "    args=[{'visible': visibilidade_inicial}, {'title': '<b>Dashboard: Faturamento Total por Categoria</b>'}]\n",
        "))\n",
        "for i, categoria in enumerate(categorias_unicas):\n",
        "    visibilidade = [False] * (len(categorias_unicas) + 1)\n",
        "    visibilidade[i + 1] = True\n",
        "    botoes_menu.append(dict(\n",
        "        label=categoria,\n",
        "        method='update',\n",
        "        args=[{'visible': visibilidade}, {'title': f'<b>Dashboard: Faturamento por Marca em {categoria}</b>'}]\n",
        "    ))\n",
        "fig_dashboard.update_layout(\n",
        "    updatemenus=[dict(\n",
        "        active=0, buttons=botoes_menu, direction=\"down\", pad={\"r\": 10, \"t\": 10}, showactive=True,\n",
        "        x=0.01, xanchor=\"left\", y=1.15, yanchor=\"top\"\n",
        "    )],\n",
        "    title='<b>Dashboard: Faturamento Total por Categoria</b>', title_x=0.5,\n",
        "    xaxis_title=\"Entidade\", yaxis_title=\"Faturamento (R$)\",\n",
        "    template=\"plotly_white\", margin=dict(t=120)\n",
        ")\n",
        "fig_dashboard.write_html(\"3_dashboard_faturamento.html\")\n",
        "print(\"Gráfico 3 foi salvo como '3_dashboard_faturamento.html'\")"
      ]
    }
  ]
}