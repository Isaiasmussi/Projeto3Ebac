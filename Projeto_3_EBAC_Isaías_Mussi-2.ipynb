import pandas as pd
import plotly.express as px
import plotly.graph_objects as go
import plotly.io as pio

pio.renderers.default = "notebook"

try:
    df = pd.read_csv('MODULO7_PROJETOFINAL_BASE_SUPERMERCADO - MODULO7_PROJETOFINAL_BASE_SUPERMERCADO (1).csv.csv', encoding='utf-8')
except UnicodeDecodeError:
    df = pd.read_csv('MODULO7_PROJETOFINAL_BASE_SUPERMERCADO - MODULO7_PROJETOFINAL_BASE_SUPERMERCADO (1).csv.csv', encoding='latin1')

df['Preco_Normal'] = pd.to_numeric(df['Preco_Normal'], errors='coerce')
df.dropna(subset=['Preco_Normal'], inplace=True)

fig_boxplot = px.box(
    df,
    x='Categoria',
    y='Preco_Normal',
    title='<b>Análise 1: Distribuição de Preços por Categoria</b>',
    labels={'Categoria': 'Categoria do Produto', 'Preco_Normal': 'Preço Normal (R$)'},
    color='Categoria',
    points='all'
)

fig_boxplot.update_layout(
    xaxis_title="Categoria",
    yaxis_title="Preço (R$)",
    font=dict(family="Arial", size=14),
    template="plotly_white",
    title_x=0.5
)

print("Gerando Gráfico 1: Boxplot da Distribuição de Preços...")
fig_boxplot.show()

df['Desconto_Num'] = df['Desconto'].astype(str).str.replace('%', '').str.replace(',', '.')
df['Desconto_Num'] = pd.to_numeric(df['Desconto_Num'], errors='coerce')
df.dropna(subset=['Desconto_Num'], inplace=True)

media_desconto_categoria = df.groupby('Categoria')['Desconto_Num'].mean().reset_index().sort_values(by='Desconto_Num', ascending=False)

fig_desconto = px.bar(
    media_desconto_categoria,
    x='Categoria',
    y='Desconto_Num',
    title='<b>Análise 2: Média de Desconto (%) por Categoria</b>',
    labels={'Categoria': 'Categoria do Produto', 'Desconto_Num': 'Média de Desconto (%)'},
    color='Categoria',
    text_auto='.2f'
)

fig_desconto.update_layout(
    xaxis_title="Categoria",
    yaxis_title="Média de Desconto (%)",
    font=dict(family="Arial", size=14),
    template="plotly_white",
    title_x=0.5
)

print("\nGerando Gráfico 2: Média de Desconto por Categoria...")
fig_desconto.show()

COLUNA_CATEGORIA = 'Categoria'
COLUNA_MARCA = 'Marca'
COLUNA_VALOR = 'Preco_Normal'

fig_dashboard = go.Figure()

dados_por_categoria = df.groupby(COLUNA_CATEGORIA)[COLUNA_VALOR].sum().reset_index()
fig_dashboard.add_trace(go.Bar(
    x=dados_por_categoria[COLUNA_CATEGORIA],
    y=dados_por_categoria[COLUNA_VALOR],
    name='Visão Geral por Categoria'
))

botoes_menu = []
categorias_unicas = df[COLUNA_CATEGORIA].unique()

for categoria in categorias_unicas:
    df_filtrado = df[df[COLUNA_CATEGORIA] == categoria]
    dados_por_marca = df_filtrado.groupby(COLUNA_MARCA)[COLUNA_VALOR].sum().reset_index()
    fig_dashboard.add_trace(go.Bar(
        x=dados_por_marca[COLUNA_MARCA],
        y=dados_por_marca[COLUNA_VALOR],
        name=f'Marcas em {categoria}',
        visible=False
    ))

visibilidade_inicial = [True] + [False] * len(categorias_unicas)
botoes_menu.append(dict(
    label='Visão Geral - Categorias',
    method='update',
    args=[{'visible': visibilidade_inicial},
          {'title': '<b>Dashboard: Faturamento Total por Categoria</b>'}]
))

for i, categoria in enumerate(categorias_unicas):
    visibilidade = [False] * (len(categorias_unicas) + 1)
    visibilidade[i + 1] = True
    botoes_menu.append(dict(
        label=categoria,
        method='update',
        args=[{'visible': visibilidade},
              {'title': f'<b>Dashboard: Faturamento por Marca em {categoria}</b>'}]
    ))

fig_dashboard.update_layout(
    updatemenus=[dict(
        active=0,
        buttons=botoes_menu,
        direction="down",
        pad={"r": 10, "t": 10},
        showactive=True,
        x=0.01,
        xanchor="left",
        y=1.15,
        yanchor="top"
    )],
    title='<b>Dashboard: Faturamento Total por Categoria</b>',
    title_x=0.5,
    xaxis_title="Entidade",
    yaxis_title="Faturamento (R$)",
    font=dict(family="Arial", size=14),
    template="plotly_white",
    margin=dict(t=120)
)

print("\nGerando Gráfico 3: Dashboard Interativo de Faturamento...")
fig_dashboard.show()
